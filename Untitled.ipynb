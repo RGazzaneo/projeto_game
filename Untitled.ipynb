{
 "cells": [
  {
   "cell_type": "code",
   "execution_count": 1,
   "id": "b494f187",
   "metadata": {},
   "outputs": [],
   "source": [
    "board_full = [[4, 3, 8, 9, 5, 2, 6, 7, 1],\n",
    "[6, 9, 1, 3, 7, 4, 2, 5, 8],\n",
    "[7, 5, 2, 6, 1, 8, 9, 3, 4],\n",
    "[9, 4, 3, 2, 8, 6, 7, 1, 5],\n",
    "[8, 2, 5, 7, 4, 1, 3, 6, 9],\n",
    "[1, 7, 6, 5, 3, 9, 4, 8, 1],\n",
    "[5, 1, 7, 4, 9, 3, 8, 2, 6],\n",
    "[2, 8, 4, 1, 6, 7, 5, 9, 3],\n",
    "[3, 6, 9, 8, 2, 5, 1, 4, 7]]"
   ]
  },
  {
   "cell_type": "code",
   "execution_count": 2,
   "id": "6ca8077d",
   "metadata": {},
   "outputs": [],
   "source": [
    "board_empty = [[0, 3, 0, 9, 5, 2, 0, 7, 0],\n",
    "[0, 9, 1, 0, 0, 0, 2, 5, 8],\n",
    "[7, 0, 2, 0, 1, 8, 0, 3, 0],\n",
    "[9, 0, 3, 0, 0, 6, 7, 0, 5],\n",
    "[0, 2, 0, 7, 4, 0, 0, 6, 9],\n",
    "[1, 0, 6, 5, 3, 0, 0, 0, 1],\n",
    "[5, 1, 0, 4, 0, 0, 8, 2, 0],\n",
    "[0, 0, 0, 1, 6, 7, 0, 9, 3],\n",
    "[3, 6, 9, 8, 0, 0, 1, 0, 0]]"
   ]
  },
  {
   "cell_type": "code",
   "execution_count": 5,
   "id": "5c7f8c35",
   "metadata": {},
   "outputs": [],
   "source": [
    "def print_board(board):\n",
    "    '''Função para e\n",
    "   Fonte: https://stackoverflow.com/questions/45471152/how-to-create-a-sudoku-puzzle-in-python'''\n",
    "    line[0]+line[5:9].join([line[1:5]*(2)]*3)+line[9:13]\n",
    "\n",
    "    line0  = expandLine(\"╔═══╤═══╦═══╗\")\n",
    "    line1  = expandLine(\"║ . │ . ║ . ║\")\n",
    "    line2  = expandLine(\"╟───┼───╫───╢\")\n",
    "    line3  = expandLine(\"╠═══╪═══╬═══╣\")\n",
    "    line4  = expandLine(\"╚═══╧═══╩═══╝\")\n",
    "\n",
    "    symbol = \" 1234567890ABCDEFGHIJKLMNOPQRSTUVWXYZ\"\n",
    "    nums   = [ [\"\"]+[symbol[n] for n in row] for row in board ]\n",
    "    print(line0)\n",
    "    for r in range(1,10):\n",
    "        print( \"\".join(n+s for n,s in zip(nums[r-1],line1.split(\".\"))) )\n",
    "        print([line2,line3,line4][(r%9==0)+(r%3==0)])\n"
   ]
  },
  {
   "cell_type": "code",
   "execution_count": 6,
   "id": "b9b3c0ba",
   "metadata": {},
   "outputs": [
    {
     "ename": "NameError",
     "evalue": "name 'line' is not defined",
     "output_type": "error",
     "traceback": [
      "\u001b[1;31m---------------------------------------------------------------------------\u001b[0m",
      "\u001b[1;31mNameError\u001b[0m                                 Traceback (most recent call last)",
      "\u001b[1;32m<ipython-input-6-0fa31fec3737>\u001b[0m in \u001b[0;36m<module>\u001b[1;34m\u001b[0m\n\u001b[1;32m----> 1\u001b[1;33m \u001b[0mprint_board\u001b[0m\u001b[1;33m(\u001b[0m\u001b[0mboard_empty\u001b[0m\u001b[1;33m)\u001b[0m\u001b[1;33m\u001b[0m\u001b[1;33m\u001b[0m\u001b[0m\n\u001b[0m",
      "\u001b[1;32m<ipython-input-5-f9169ec10c7c>\u001b[0m in \u001b[0;36mprint_board\u001b[1;34m(board)\u001b[0m\n\u001b[0;32m      2\u001b[0m     '''Função para e\n\u001b[0;32m      3\u001b[0m    Fonte: https://stackoverflow.com/questions/45471152/how-to-create-a-sudoku-puzzle-in-python'''\n\u001b[1;32m----> 4\u001b[1;33m     \u001b[0mline\u001b[0m\u001b[1;33m[\u001b[0m\u001b[1;36m0\u001b[0m\u001b[1;33m]\u001b[0m\u001b[1;33m+\u001b[0m\u001b[0mline\u001b[0m\u001b[1;33m[\u001b[0m\u001b[1;36m5\u001b[0m\u001b[1;33m:\u001b[0m\u001b[1;36m9\u001b[0m\u001b[1;33m]\u001b[0m\u001b[1;33m.\u001b[0m\u001b[0mjoin\u001b[0m\u001b[1;33m(\u001b[0m\u001b[1;33m[\u001b[0m\u001b[0mline\u001b[0m\u001b[1;33m[\u001b[0m\u001b[1;36m1\u001b[0m\u001b[1;33m:\u001b[0m\u001b[1;36m5\u001b[0m\u001b[1;33m]\u001b[0m\u001b[1;33m*\u001b[0m\u001b[1;33m(\u001b[0m\u001b[1;36m2\u001b[0m\u001b[1;33m)\u001b[0m\u001b[1;33m]\u001b[0m\u001b[1;33m*\u001b[0m\u001b[1;36m3\u001b[0m\u001b[1;33m)\u001b[0m\u001b[1;33m+\u001b[0m\u001b[0mline\u001b[0m\u001b[1;33m[\u001b[0m\u001b[1;36m9\u001b[0m\u001b[1;33m:\u001b[0m\u001b[1;36m13\u001b[0m\u001b[1;33m]\u001b[0m\u001b[1;33m\u001b[0m\u001b[1;33m\u001b[0m\u001b[0m\n\u001b[0m\u001b[0;32m      5\u001b[0m \u001b[1;33m\u001b[0m\u001b[0m\n\u001b[0;32m      6\u001b[0m     \u001b[0mline0\u001b[0m  \u001b[1;33m=\u001b[0m \u001b[0mexpandLine\u001b[0m\u001b[1;33m(\u001b[0m\u001b[1;34m\"╔═══╤═══╦═══╗\"\u001b[0m\u001b[1;33m)\u001b[0m\u001b[1;33m\u001b[0m\u001b[1;33m\u001b[0m\u001b[0m\n",
      "\u001b[1;31mNameError\u001b[0m: name 'line' is not defined"
     ]
    }
   ],
   "source": [
    "print_board(board_empty)"
   ]
  }
 ],
 "metadata": {
  "kernelspec": {
   "display_name": "Python 3",
   "language": "python",
   "name": "python3"
  },
  "language_info": {
   "codemirror_mode": {
    "name": "ipython",
    "version": 3
   },
   "file_extension": ".py",
   "mimetype": "text/x-python",
   "name": "python",
   "nbconvert_exporter": "python",
   "pygments_lexer": "ipython3",
   "version": "3.8.8"
  }
 },
 "nbformat": 4,
 "nbformat_minor": 5
}
